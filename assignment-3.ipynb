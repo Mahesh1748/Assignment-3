{
  "metadata": {
    "language_info": {
      "codemirror_mode": {
        "name": "python",
        "version": 3
      },
      "file_extension": ".py",
      "mimetype": "text/x-python",
      "name": "python",
      "nbconvert_exporter": "python",
      "pygments_lexer": "ipython3",
      "version": "3.8"
    },
    "kernelspec": {
      "name": "python",
      "display_name": "Python (Pyodide)",
      "language": "python"
    }
  },
  "nbformat_minor": 4,
  "nbformat": 4,
  "cells": [
    {
      "cell_type": "code",
      "source": "import numpy as np\n\n# Generate a random vector of size 15 with integers in the range 1-20\nrand_vec = np.random.randint(low=1, high=21, size=15)\n\nprint(rand_vec)",
      "metadata": {
        "trusted": true
      },
      "execution_count": 1,
      "outputs": [
        {
          "name": "stdout",
          "text": "[13  3 16  9 18 12 16 18  5  7  9 20 13 11 11]\n",
          "output_type": "stream"
        }
      ]
    },
    {
      "cell_type": "code",
      "source": "import numpy as np\n\n# Generate a random vector of size 15 with integers in the range 1-20\nrand_vec = np.random.randint(low=1, high=21, size=15)\n\n# Reshape the vector into a 3 by 5 array\narr_3x5 = rand_vec.reshape((3, 5))\n\nprint(arr_3x5)",
      "metadata": {
        "trusted": true
      },
      "execution_count": 2,
      "outputs": [
        {
          "name": "stdout",
          "text": "[[ 5 14  9 19  2]\n [20 10  4 20 13]\n [ 2  1 20  8  8]]\n",
          "output_type": "stream"
        }
      ]
    },
    {
      "cell_type": "code",
      "source": "import numpy as np\n\n# Generate a random vector of size 15 with integers in the range 1-20\nrand_vec = np.random.randint(low=1, high=21, size=15)\n\n# Reshape the vector into a 3 by 5 array\narr_3x5 = rand_vec.reshape((3, 5))\n\n# Print the shape of the array\nprint(arr_3x5.shape)",
      "metadata": {
        "trusted": true
      },
      "execution_count": 3,
      "outputs": [
        {
          "name": "stdout",
          "text": "(3, 5)\n",
          "output_type": "stream"
        }
      ]
    },
    {
      "cell_type": "code",
      "source": "import numpy as np\n\n# Generate a random vector of size 15 with integers in the range 1-20\nrand_vec = np.random.randint(low=1, high=21, size=15)\n\n# Reshape the vector into a 3 by 5 array\narr_3x5 = rand_vec.reshape((3, 5))\n\n# Replace the max value in each row with 0\nfor i in range(arr_3x5.shape[0]):\n    max_index = np.argmax(arr_3x5[i])\n    arr_3x5[i][max_index] = 0\n\nprint(arr_3x5)",
      "metadata": {
        "trusted": true
      },
      "execution_count": 4,
      "outputs": [
        {
          "name": "stdout",
          "text": "[[12  0 11  9  3]\n [ 2 11 13  0  2]\n [ 3 14  3  0  8]]\n",
          "output_type": "stream"
        }
      ]
    },
    {
      "cell_type": "code",
      "source": "import numpy as np\n\n# Create a 2-dimensional array of size 4 x 3 with 4-byte integer elements\narr_4x3 = np.array([[1, 2, 3], [4, 5, 6], [7, 8, 9], [10, 11, 12]], dtype=np.int32)\n\n# Print the shape of the array\nprint(\"Shape of the array:\", arr_4x3.shape)\n\n# Print the type of the array\nprint(\"Type of the array:\", type(arr_4x3))\n\n# Print the data type of the array\nprint(\"Data type of the array:\", arr_4x3.dtype)\n\n# Print the array\nprint(arr_4x3)",
      "metadata": {
        "trusted": true
      },
      "execution_count": 5,
      "outputs": [
        {
          "name": "stdout",
          "text": "Shape of the array: (4, 3)\nType of the array: <class 'numpy.ndarray'>\nData type of the array: int32\n[[ 1  2  3]\n [ 4  5  6]\n [ 7  8  9]\n [10 11 12]]\n",
          "output_type": "stream"
        }
      ]
    },
    {
      "cell_type": "code",
      "source": "import numpy as np\n\n# Define the square array\narr = np.array([[3, -2], [1, 0]])\n\n# Compute the eigenvalues and right eigenvectors\neigenvalues, eigenvectors = np.linalg.eig(arr)\n\n# Print the eigenvalues and right eigenvectors\nprint(\"Eigenvalues:\", eigenvalues)\nprint(\"Right eigenvectors:\")\nprint(eigenvectors)",
      "metadata": {
        "trusted": true
      },
      "execution_count": 6,
      "outputs": [
        {
          "name": "stdout",
          "text": "Eigenvalues: [2. 1.]\nRight eigenvectors:\n[[0.89442719 0.70710678]\n [0.4472136  0.70710678]]\n",
          "output_type": "stream"
        }
      ]
    },
    {
      "cell_type": "code",
      "source": "import numpy as np\n\n# Define the array\narr = np.array([[0, 1, 2], [3, 4, 5]])\n\n# Compute the sum of the diagonal elements\ndiagonal_sum = np.trace(arr)\n\n# Print the sum of the diagonal elements\nprint(\"Sum of the diagonal elements:\", diagonal_sum)",
      "metadata": {
        "trusted": true
      },
      "execution_count": 7,
      "outputs": [
        {
          "name": "stdout",
          "text": "Sum of the diagonal elements: 4\n",
          "output_type": "stream"
        }
      ]
    },
    {
      "cell_type": "code",
      "source": "",
      "metadata": {},
      "execution_count": null,
      "outputs": []
    }
  ]
}